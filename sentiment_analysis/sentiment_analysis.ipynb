{
 "cells": [
  {
   "cell_type": "code",
   "execution_count": 1,
   "metadata": {},
   "outputs": [],
   "source": [
    "import pandas as pd\n",
    "import matplotlib.pyplot as plt\n",
    "import spacy # nltk can also be a good choice"
   ]
  },
  {
   "cell_type": "markdown",
   "metadata": {},
   "source": [
    "# Import"
   ]
  },
  {
   "cell_type": "code",
   "execution_count": 2,
   "metadata": {},
   "outputs": [],
   "source": [
    "df = pd.read_csv(\"data.csv\")\n",
    "df.columns = [\"text\", \"s\"]\n",
    "# Sentiment to binary\n",
    "df['s'] = df.s.map(lambda x: 1 if x == 'positive' else 0)"
   ]
  },
  {
   "cell_type": "markdown",
   "metadata": {},
   "source": [
    "# Preprocessing"
   ]
  },
  {
   "cell_type": "markdown",
   "metadata": {},
   "source": [
    "###  Lemmatize with spacy \n",
    "    - Keep only pos Noun, Adj, Verb"
   ]
  },
  {
   "cell_type": "code",
   "execution_count": 3,
   "metadata": {},
   "outputs": [],
   "source": [
    "nlp_spacy = spacy.load(\"en_core_web_sm\")\n",
    "\n",
    "# Example\n",
    "tokens = nlp_spacy(\"Hi brother! How are you today? You feel good?\")\n",
    "print(str(tokens[0]))\n",
    "\n",
    "# Lematize\n",
    "def lemmatize_text(text, nlp_spacy, allowed_pos_tags=[\"NOUN\", \"ADJ\", \"VERB\"]): ## ADV\n",
    "    tokens = nlp_spacy(text)\n",
    "    return [(str(tok), tok.lemma_) for tok in tokens if tok.pos_ in allowed_pos_tags]\n",
    "\n",
    "# Save\n",
    "df[\"lems_filtered\"] = df[\"text\"].map(lambda text: lemmatize_text(text, nlp_spacy))\n",
    "df.to_pickle(\"lems_filtered_noun_adj_verb12345.pk\")\n",
    "#df = pd.read_pickle(\"lems_filtered_noun_adj_verb.pk\")"
   ]
  },
  {
   "cell_type": "code",
   "execution_count": 5,
   "metadata": {},
   "outputs": [],
   "source": [
    "df[\"lems\"] = df[\"lems_filtered\"].map(lambda l: \" \".join([el[1] for el in l]))"
   ]
  },
  {
   "cell_type": "markdown",
   "metadata": {},
   "source": [
    "### Preprocessing: parameters"
   ]
  },
  {
   "cell_type": "markdown",
   "metadata": {},
   "source": [
    "### CountVectorizer (test)"
   ]
  },
  {
   "cell_type": "code",
   "execution_count": 10,
   "metadata": {},
   "outputs": [
    {
     "name": "stdout",
     "output_type": "stream",
     "text": [
      "(50000, 69)\n"
     ]
    },
    {
     "data": {
      "text/plain": [
       "movie          32126\n",
       "film           29282\n",
       "good           23627\n",
       "time           19756\n",
       "watch          18012\n",
       "               ...  \n",
       "fan             5258\n",
       "script          5223\n",
       "believe         5141\n",
       "interesting     5129\n",
       "mean            5023\n",
       "Length: 69, dtype: int64"
      ]
     },
     "execution_count": 10,
     "metadata": {},
     "output_type": "execute_result"
    }
   ],
   "source": [
    "from sklearn.feature_extraction.text import CountVectorizer, TfidfVectorizer\n",
    "from spacy.lang.en.stop_words import STOP_WORDS as stop_words\n",
    "## CountVectorizer avec tous et regarder la distrib des fréquences\n",
    "# - if domain specific : some high frequencies values then a whole in the support of the distribution then more common values \n",
    "min_df=0.1\n",
    "max_df=0.8\n",
    "ngram_range=[1,2]\n",
    "cv = CountVectorizer(\n",
    "    binary=True,\n",
    "    min_df=min_df,\n",
    "    max_df=max_df, \n",
    "    stop_words=stop_words,\n",
    "    ngram_range=ngram_range\n",
    ")\n",
    "\n",
    "cv_mat = cv.fit_transform(df[\"lems\"])\n",
    "\n",
    "print(cv_mat.shape)\n",
    "\n",
    "dfcv = pd.DataFrame(cv_mat.todense(), columns=cv.get_feature_names(), index=df.index)\n",
    "\n",
    "dfcv.sum(axis=0).sort_values(ascending=False)"
   ]
  },
  {
   "cell_type": "markdown",
   "metadata": {},
   "source": [
    "### Preprocessing: tfidf"
   ]
  },
  {
   "cell_type": "code",
   "execution_count": 12,
   "metadata": {},
   "outputs": [
    {
     "name": "stdout",
     "output_type": "stream",
     "text": [
      "(50000, 104)\n"
     ]
    }
   ],
   "source": [
    "from sklearn.feature_extraction.text import CountVectorizer, TfidfVectorizer\n",
    "\n",
    "tfidf = TfidfVectorizer(\n",
    "    smooth_idf=True,\n",
    "    sublinear_tf=True,\n",
    "    use_idf=True,\n",
    "    # max_features\n",
    "    min_df=min_df,\n",
    "    max_df=max_df, \n",
    "    stop_words=stopwords,\n",
    "    ngram_range=ngram_range)\n",
    "\n",
    "tfidf_mat = tfidf.fit_transform(df[\"lems\"])\n",
    "\n",
    "print(tfidf_mat.shape)\n",
    "\n",
    "dftfidf = pd.DataFrame(tfidf_mat.todense(), columns=tfidf.get_feature_names(), index=df.index)"
   ]
  },
  {
   "cell_type": "markdown",
   "metadata": {},
   "source": [
    "### TruncatedSVD (for viz)"
   ]
  },
  {
   "cell_type": "code",
   "execution_count": 14,
   "metadata": {},
   "outputs": [
    {
     "data": {
      "image/png": "[encoded data removed]",
      "text/plain": [
       "<Figure size 432x288 with 1 Axes>"
      ]
     },
     "metadata": {
      "needs_background": "light"
     },
     "output_type": "display_data"
    }
   ],
   "source": [
    "from sklearn.decomposition import TruncatedSVD, PCA\n",
    "\n",
    "n_components = 5\n",
    "dims = [\"dim_{}\".format(x) for x in range(1, n_components+1)]\n",
    "svd = TruncatedSVD(n_components=n_components, algorithm='randomized', n_iter=5, random_state=None, tol=0.0)\n",
    "res_svd =svd.fit_transform(tfidf_mat)\n",
    "res_svd = pd.DataFrame(res_svd, index=df.index)\n",
    "\n",
    "plt.scatter(res_svd[0], res_svd[1])\n",
    "plt.show()"
   ]
  },
  {
   "cell_type": "markdown",
   "metadata": {},
   "source": [
    "### Split data"
   ]
  },
  {
   "cell_type": "code",
   "execution_count": 15,
   "metadata": {},
   "outputs": [],
   "source": [
    "from sklearn.model_selection import train_test_split\n",
    "\n",
    "X = dftfidf.copy()\n",
    "Y = df[\"s\"]\n",
    "X_train, X_test, Y_train, Y_test = train_test_split(\n",
    "    X, Y, test_size=0.33, random_state=42)"
   ]
  },
  {
   "cell_type": "markdown",
   "metadata": {},
   "source": [
    "### Process: MultinomialNaïveBayes"
   ]
  },
  {
   "cell_type": "markdown",
   "metadata": {},
   "source": [
    "### Fit / pred in sample"
   ]
  },
  {
   "cell_type": "code",
   "execution_count": 16,
   "metadata": {},
   "outputs": [
    {
     "data": {
      "text/plain": [
       "0.7408358208955224"
      ]
     },
     "execution_count": 16,
     "metadata": {},
     "output_type": "execute_result"
    }
   ],
   "source": [
    "from sklearn.naive_bayes import MultinomialNB\n",
    "\n",
    "mnb = MultinomialNB(alpha=1.0, fit_prior=True, class_prior=None)\n",
    "mnb.fit(X_train, Y_train)\n",
    "pred = mnb.predict(X_train)\n",
    "res = pd.DataFrame.from_dict({\"pred\":pred, \"true\":Y_train})\n",
    "(res[\"pred\"] == res[\"true\"]).sum() / res.shape[0]"
   ]
  },
  {
   "cell_type": "markdown",
   "metadata": {},
   "source": [
    "### Out of sample"
   ]
  },
  {
   "cell_type": "code",
   "execution_count": 17,
   "metadata": {},
   "outputs": [
    {
     "name": "stdout",
     "output_type": "stream",
     "text": [
      "Accuracy: 0.74\n"
     ]
    }
   ],
   "source": [
    "pred = mnb.predict(X_test)\n",
    "res = pd.DataFrame.from_dict({\"pred\":pred, \"true\":Y_test})\n",
    "print(\"Accuracy:\", round((res[\"pred\"] == res[\"true\"]).sum() / res.shape[0], 2))"
   ]
  },
  {
   "cell_type": "markdown",
   "metadata": {},
   "source": [
    "### Metrics"
   ]
  },
  {
   "cell_type": "code",
   "execution_count": 18,
   "metadata": {},
   "outputs": [
    {
     "data": {
      "text/plain": [
       "(array([0.74689209, 0.73982971]),\n",
       " array([0.73196881, 0.75446213]),\n",
       " array([0.73935516, 0.74707428]),\n",
       " array([8208, 8292]))"
      ]
     },
     "execution_count": 18,
     "metadata": {},
     "output_type": "execute_result"
    }
   ],
   "source": [
    "from sklearn.metrics import precision_recall_fscore_support\n",
    "\n",
    "precision_recall_fscore_support(Y_test, \n",
    "                                pred, \n",
    "                                beta=1.0, \n",
    "                                labels=None, \n",
    "                                pos_label=None, \n",
    "                                average=None, \n",
    "                                warn_for=('precision', 'recall', 'f-score'), \n",
    "                                sample_weight=None)\n",
    "\n",
    "\n",
    "# precision\n",
    "# recall\n",
    "# fbeta_score\n",
    "# support"
   ]
  },
  {
   "cell_type": "markdown",
   "metadata": {},
   "source": [
    "### Pipeline + GridSearch"
   ]
  },
  {
   "cell_type": "code",
   "execution_count": 21,
   "metadata": {},
   "outputs": [
    {
     "name": "stdout",
     "output_type": "stream",
     "text": [
      "Fitting 3 folds for each of 360 candidates, totalling 1080 fits\n",
      "[CV] clf__alpha=0.1, tfidf__max_df=0.05, tfidf__min_df=0.001, tfidf__ngram_range=(1, 1), tfidf__smooth_idf=False, tfidf__sublinear_tf=False, tfidf__use_idf=False \n",
      "[CV] clf__alpha=0.1, tfidf__max_df=0.05, tfidf__min_df=0.001, tfidf__ngram_range=(1, 1), tfidf__smooth_idf=False, tfidf__sublinear_tf=False, tfidf__use_idf=False \n",
      "[CV] clf__alpha=0.1, tfidf__max_df=0.05, tfidf__min_df=0.001, tfidf__ngram_range=(1, 1), tfidf__smooth_idf=False, tfidf__sublinear_tf=False, tfidf__use_idf=False \n",
      "[CV] clf__alpha=0.1, tfidf__max_df=0.05, tfidf__min_df=0.001, tfidf__ngram_range=(1, 1), tfidf__smooth_idf=False, tfidf__sublinear_tf=False, tfidf__use_idf=True \n",
      "[CV] clf__alpha=0.1, tfidf__max_df=0.05, tfidf__min_df=0.001, tfidf__ngram_range=(1, 1), tfidf__smooth_idf=False, tfidf__sublinear_tf=False, tfidf__use_idf=True \n",
      "[CV]  clf__alpha=0.1, tfidf__max_df=0.05, tfidf__min_df=0.001, tfidf__ngram_range=(1, 1), tfidf__smooth_idf=False, tfidf__sublinear_tf=False, tfidf__use_idf=False, score=0.8279937604991601, total=  16.3s\n",
      "[CV] clf__alpha=0.1, tfidf__max_df=0.05, tfidf__min_df=0.001, tfidf__ngram_range=(1, 1), tfidf__smooth_idf=False, tfidf__sublinear_tf=False, tfidf__use_idf=True \n",
      "[CV]  clf__alpha=0.1, tfidf__max_df=0.05, tfidf__min_df=0.001, tfidf__ngram_range=(1, 1), tfidf__smooth_idf=False, tfidf__sublinear_tf=False, tfidf__use_idf=False, score=0.8232929317172687, total=  16.4s\n",
      "[CV]  clf__alpha=0.1, tfidf__max_df=0.05, tfidf__min_df=0.001, tfidf__ngram_range=(1, 1), tfidf__smooth_idf=False, tfidf__sublinear_tf=False, tfidf__use_idf=False, score=0.8232929317172687, total=  16.2s\n",
      "[CV] clf__alpha=0.1, tfidf__max_df=0.05, tfidf__min_df=0.001, tfidf__ngram_range=(1, 1), tfidf__smooth_idf=False, tfidf__sublinear_tf=True, tfidf__use_idf=False \n"
     ]
    },
    {
     "name": "stderr",
     "output_type": "stream",
     "text": [
      "[Parallel(n_jobs=5)]: Done   3 tasks      | elapsed:   29.1s\n",
      "[Parallel(n_jobs=5)]: Done   8 tasks      | elapsed:   58.1s\n",
      "[Parallel(n_jobs=5)]: Done 958 tasks      | elapsed: 118.1min\n",
      "[Parallel(n_jobs=5)]: Done 1080 out of 1080 | elapsed: 136.4min finished\n"
     ]
    },
    {
     "data": {
      "text/plain": []
     },
     "execution_count": 21,
     "metadata": {},
     "output_type": "execute_result"
    }
   ],
   "source": [
    "from sklearn.pipeline import Pipeline\n",
    "from sklearn.model_selection import GridSearchCV\n",
    "\n",
    "pipeline = Pipeline([\n",
    "    ('tfidf', TfidfVectorizer()),\n",
    "    ('clf', MultinomialNB(fit_prior=True, class_prior=None))])\n",
    "    \n",
    "    \n",
    "param_grid = {\n",
    "   # 'tfidf__max_df': (0.05, 0.1, 0.2, 0.3, 0.4, 0.5, 0.6, 0.7, 0.8, 0.9),\n",
    "    'tfidf__max_df': (0.05, 0.1, 0.2,  0.5,  0.9),\n",
    "#    'tfidf__min_df': [0.001, 0.002, 0.005, 0.0075, 0.01],\n",
    "    'tfidf__min_df': [0.001, 0.005, 0.01],\n",
    "    'tfidf__smooth_idf': (False, True),\n",
    "    'tfidf__sublinear_tf': (False, True),\n",
    "    'tfidf__use_idf': (False, True),\n",
    "    # 'vect__max_features': (None, 5000, 10000, 50000),\n",
    "    'tfidf__ngram_range': [(1, 1)],  # unigrams or bigrams\n",
    "    'tfidf__use_idf': (False, True),\n",
    "#    'tfidf__norm': ('l1', 'l2'),\n",
    "    #'clf__alpha': (0.1, 0.2, 0.3, 0.4, 0.5, 0.6, 0.7, 0.8, 0.9, 1)\n",
    "    'clf__alpha': (0.1, 0.5, 1)\n",
    "    # 'clf__max_iter': (10, 50, 80),\n",
    "}\n",
    "\n",
    "n = len(df)\n",
    "grid = GridSearchCV(pipeline, n_jobs=5, param_grid=param_grid, verbose=10)\n",
    "X = df[\"lems\"].head(n)\n",
    "Y = df[\"s\"].head(n)\n",
    "grid.fit(X, Y)"
   ]
  },
  {
   "cell_type": "markdown",
   "metadata": {},
   "source": [
    "# Apply the best model"
   ]
  },
  {
   "cell_type": "code",
   "execution_count": 45,
   "metadata": {},
   "outputs": [
    {
     "data": {
      "text/plain": [
       "0.86392"
      ]
     },
     "execution_count": 45,
     "metadata": {},
     "output_type": "execute_result"
    }
   ],
   "source": [
    "n = len(df)\n",
    "X = df[\"lems\"].head(n)\n",
    "Y = df[\"s\"].head(n)\n",
    "\n",
    "bestModel = Pipeline([\n",
    "    ('tfidf', grid.best_estimator_.steps[0][1]),\n",
    "    ('clf', grid.best_estimator_.steps[1][1]) \n",
    "])\n",
    "\n",
    "bestModel.score(X,Y)"
   ]
  }
 ],
 "metadata": {
  "kernelspec": {
   "display_name": "Python 3",
   "language": "python",
   "name": "python3"
  },
  "language_info": {
   "codemirror_mode": {
    "name": "ipython",
    "version": 3
   },
   "file_extension": ".py",
   "mimetype": "text/x-python",
   "name": "python",
   "nbconvert_exporter": "python",
   "pygments_lexer": "ipython3",
   "version": "3.6.3"
  },
  "toc": {
   "base_numbering": 1,
   "nav_menu": {},
   "number_sections": true,
   "sideBar": true,
   "skip_h1_title": false,
   "title_cell": "Table of Contents",
   "title_sidebar": "Contents",
   "toc_cell": false,
   "toc_position": {},
   "toc_section_display": true,
   "toc_window_display": false
  }
 },
 "nbformat": 4,
 "nbformat_minor": 4
}
